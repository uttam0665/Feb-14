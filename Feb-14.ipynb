{
 "cells": [
  {
   "cell_type": "markdown",
   "id": "c39ecf30",
   "metadata": {},
   "source": [
    "Q1. What is multithreading in python? why is it used? Name the module used to handle threads in python.\n",
    "ans >>\n",
    "\n",
    "    Multithreading refers to concurrently executing multiple threads by rapidly switching the control of the CPU between threads (called context switching).\n",
    "    The Python Global Interpreter Lock limits one thread to run at a time even if the machine contains multiple processors.​\n",
    "   \n",
    "     Python Threading module\n",
    "     The Python Threading module allows you to create and manage new threads of execution in Python."
   ]
  },
  {
   "cell_type": "markdown",
   "id": "e036bd04",
   "metadata": {},
   "source": [
    "Q2. Why threading module used? Write the use of the following functions\n",
    "    activeCount()\n",
    "    currentThread()\n",
    "    enumerate()\n",
    "ans:=\n",
    "\n",
    "The thread Module= This method starts a new thread and return its identifier.  \n",
    "\n",
    "    activeCount() − Returns the number of thread objects that are active. threading.\n",
    "    currentThread() − Returns the number of thread objects in the caller's thread control\n",
    "      enumerate() - method adds a counter to an iterable and returns it in a form of enumerating object"
   ]
  },
  {
   "cell_type": "markdown",
   "id": "c9d2986c",
   "metadata": {},
   "source": [
    "Q3. Explain the following functions\n",
    "    run()\n",
    "    start()\n",
    "    join()\n",
    "    isAlive()\n",
    "\n",
    "ans=\n",
    "    \n",
    "    run()-method is an inbuilt method of the Thread class of the threading module in Python   \n",
    "    \n",
    "    start()-is a method defined on a Thread object in the threading module, which is used to start the execution of the thread.\n",
    "    When you create a Thread object, you specify a target function that will be executed in a separate thread of control when the start() method is called.\n",
    "    \n",
    "    join()-is an inbuilt string function in Python used to join elements of the sequence separated by a string separator\n",
    "    \n",
    "    isAlive()-   It is used to check if a thread is alive or not.\n",
    "     Alive refers to a thread that has begun but not been terminated yet. \n",
    "    When the run method is called, the thread operates for a specific period of time after which it stops executing."
   ]
  },
  {
   "cell_type": "code",
   "execution_count": 2,
   "id": "39f689aa",
   "metadata": {},
   "outputs": [
    {
     "name": "stdout",
     "output_type": "stream",
     "text": [
      "Square of 1 is 1\n",
      "Square of 2 is 4\n",
      "Square of 3 is 9\n",
      "Square of 4 is 16\n",
      "Square of 5 is 25\n",
      "Square of 6 is 36\n",
      "Square of 7 is 49\n",
      "Square of 8 is 64\n",
      "Square of 9 is 81\n",
      "Square of 10 is 100\n",
      "Cube of 1 is 1\n",
      "Cube of 2 is 8\n",
      "Cube of 3 is 27\n",
      "Cube of 4 is 64\n",
      "Cube of 5 is 125\n",
      "Cube of 6 is 216\n",
      "Cube of 7 is 343\n",
      "Cube of 8 is 512\n",
      "Cube of 9 is 729\n",
      "Cube of 10 is 1000\n",
      "Done printing squares and cubes!\n"
     ]
    }
   ],
   "source": [
    "'''4. Write a python program to create two threads. Thread one must print the list of squares and thread\n",
    "two must print the list of cubes.\n",
    "\n",
    "and:='''\n",
    "    \n",
    "import threading\n",
    "\n",
    "def print_squares():\n",
    "    for i in range(1, 11):\n",
    "        print(f\"Square of {i} is {i*i}\")\n",
    "\n",
    "def print_cubes():\n",
    "    for i in range(1, 11):\n",
    "        print(f\"Cube of {i} is {i*i*i}\")\n",
    "t1 = threading.Thread(target=print_squares)\n",
    "t2 = threading.Thread(target=print_cubes)\n",
    "t1.start()\n",
    "t2.start()\n",
    "\n",
    "\n",
    "t1.join()\n",
    "t2.join()\n",
    "print(\"Done printing squares and cubes!\")\n",
    "\n",
    "    "
   ]
  },
  {
   "cell_type": "markdown",
   "id": "2e53c491",
   "metadata": {},
   "source": [
    "Q5. State advantages and disadvantages of multithreading\n",
    "  ans= \n",
    "disadvantages :-\n",
    "\n",
    "->Complex debugging and testing processes.\n",
    "->Overhead switching of context.\n",
    "->Increased potential for deadlock occurrence.\n",
    "->Increased difficulty level in writing a program.\n",
    "->Unpredictable results.\n",
    "\n",
    "advantages:-\n",
    "\n",
    "->Enhanced performance by decreased development time\n",
    "->Simplified and streamlined program coding\n",
    "->Improvised GUI responsiveness\n",
    "->Simultaneous and parallelized occurrence of tasks\n",
    "->Better use of cache storage by utilization of resources\n",
    "->Decreased cost of maintenance\n",
    "->Better use of CPU resource    "
   ]
  },
  {
   "cell_type": "markdown",
   "id": "c0a7cb08",
   "metadata": {},
   "source": [
    "6. Explain deadlocks and race conditions.\n",
    "\n",
    "ans:=\n",
    "\n",
    "    A deadlock in OS is a situation in which more than one process is blocked because it is holding a resource and also requires some resource that is acquired by some other process.\n",
    "    The four necessary conditions for a deadlock situation are mutual exclusion, no preemption, hold and wait and circular set.\n",
    "    \n",
    "    A race condition occurs when two threads access a shared variable at the same time. The first thread reads the variable, and the second thread reads the same value from the variable."
   ]
  },
  {
   "cell_type": "code",
   "execution_count": null,
   "id": "3521f5e7",
   "metadata": {},
   "outputs": [],
   "source": []
  }
 ],
 "metadata": {
  "kernelspec": {
   "display_name": "Python 3 (ipykernel)",
   "language": "python",
   "name": "python3"
  },
  "language_info": {
   "codemirror_mode": {
    "name": "ipython",
    "version": 3
   },
   "file_extension": ".py",
   "mimetype": "text/x-python",
   "name": "python",
   "nbconvert_exporter": "python",
   "pygments_lexer": "ipython3",
   "version": "3.10.11"
  }
 },
 "nbformat": 4,
 "nbformat_minor": 5
}
